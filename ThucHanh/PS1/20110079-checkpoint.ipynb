{
 "cells": [
  {
   "cell_type": "code",
   "execution_count": 1,
   "id": "e9582671",
   "metadata": {},
   "outputs": [],
   "source": [
    "import numpy as np\n",
    "import matplotlib.pyplot as plt"
   ]
  },
  {
   "cell_type": "code",
   "execution_count": 2,
   "id": "08b58fd3",
   "metadata": {
    "scrolled": true
   },
   "outputs": [
    {
     "data": {
      "image/png": "[encoded data removed]",
      "text/plain": [
       "<Figure size 640x480 with 1 Axes>"
      ]
     },
     "metadata": {},
     "output_type": "display_data"
    }
   ],
   "source": [
    "X = np.array([(1,0),(2,0),(3,0),(5,6),(6,6),(7,6)])\n",
    "x = X[:,0]\n",
    "y = X[:,1]\n",
    "\n",
    "plt.scatter(x,y)\n",
    "plt.scatter(np.mean(x),np.mean(y))\n",
    "plt.show()"
   ]
  },
  {
   "cell_type": "code",
   "execution_count": 3,
   "id": "6d202b17",
   "metadata": {
    "scrolled": true
   },
   "outputs": [
    {
     "data": {
      "image/png": "[encoded data removed]",
      "text/plain": [
       "<Figure size 640x480 with 1 Axes>"
      ]
     },
     "metadata": {},
     "output_type": "display_data"
    }
   ],
   "source": [
    "x_new = x - np.mean(x)\n",
    "y_new = y - np.mean(y)\n",
    "\n",
    "plt.scatter(x_new,y_new)\n",
    "plt.xlim([-10,10])\n",
    "plt.ylim([-5,5])\n",
    "plt.show()"
   ]
  },
  {
   "cell_type": "code",
   "execution_count": 4,
   "id": "1c14d104",
   "metadata": {},
   "outputs": [],
   "source": [
    "def pca_dim_reduction(X, M):\n",
    "  assert X.ndim >= M, \"M has to be less than dimensionality of X!\"\n",
    "         \n",
    "  # * Step 1. Center Data\n",
    "  X_mean = np.zeros((len(X), len(X[0])))\n",
    "  X_mean[:,0] = np.mean(X[:,0])*np.ones(6)\n",
    "  X_mean[:,1] = np.mean(X[:,1])*np.ones(6)\n",
    "  X_centered = X - X_mean \n",
    "  \n",
    "  # * Step 2. Compute Covariance Matrix\n",
    "  X_cov = np.cov(X_centered.T)\n",
    "    \n",
    "  # * Step 3. Get Eigen Values and Vectors\n",
    "  eigen_values, eigen_vectors = np.linalg.eig(X_cov)\n",
    "\n",
    "  # * Step 4 Get the top M eigen values indices\n",
    "  top_M_idx = np.argsort(eigen_values)[::-1][:M]\n",
    "  \n",
    "  # * Step 5 Get top M Eigen Vectors\n",
    "  top_M_eigen_vectors = eigen_vectors[:,top_M_idx]\n",
    "  \n",
    "  # * Step 6 return projections in reduced space\n",
    "  return np.dot(X_centered, top_M_eigen_vectors)  "
   ]
  },
  {
   "cell_type": "code",
   "execution_count": 5,
   "id": "4de60e39",
   "metadata": {},
   "outputs": [
    {
     "data": {
      "image/png": "[encoded data removed]",
      "text/plain": [
       "<Figure size 640x480 with 1 Axes>"
      ]
     },
     "metadata": {},
     "output_type": "display_data"
    }
   ],
   "source": [
    "S = pca_dim_reduction(X,2)\n",
    "plt.scatter(S[:,0], S[:,1])\n",
    "plt.xlim([-10, 10])\n",
    "plt.ylim([-5,5])\n",
    "plt.show()"
   ]
  },
  {
   "cell_type": "code",
   "execution_count": 6,
   "id": "8edc956a",
   "metadata": {},
   "outputs": [
    {
     "name": "stdout",
     "output_type": "stream",
     "text": [
      "Ma trận hiệp phương sai:\n",
      " [[ 5.6  7.2]\n",
      " [ 7.2 10.8]]\n"
     ]
    }
   ],
   "source": [
    "import numpy as np\n",
    "\n",
    "# Chuẩn bị dữ liệu\n",
    "X = np.array([(1,0),(2,0),(3,0),(5,6),(6,6),(7,6)])\n",
    "\n",
    "# Trung bình của mỗi chiều dữ liệu\n",
    "mean = np.mean(X, axis=0)\n",
    "\n",
    "# Trừ đi giá trị trung bình của mỗi chiều dữ liệu\n",
    "X_centered = X - mean\n",
    "\n",
    "# Tính ma trận hiệp phương sai\n",
    "covariance_matrix = np.cov(X_centered.T)\n",
    "print(\"Ma trận hiệp phương sai:\\n\", covariance_matrix)"
   ]
  },
  {
   "cell_type": "code",
   "execution_count": 7,
   "id": "d6a1b602",
   "metadata": {},
   "outputs": [
    {
     "name": "stdout",
     "output_type": "stream",
     "text": [
      "Các giá trị riêng:\n",
      " [ 0.54493632 15.85506368]\n",
      "Các vector riêng:\n",
      " [[-0.81842668 -0.57461097]\n",
      " [ 0.57461097 -0.81842668]]\n"
     ]
    }
   ],
   "source": [
    "# Tính toán các vector riêng và giá trị riêng\n",
    "eigenvalues, eigenvectors = np.linalg.eig(covariance_matrix)\n",
    "print(\"Các giá trị riêng:\\n\", eigenvalues)\n",
    "print(\"Các vector riêng:\\n\", eigenvectors)"
   ]
  },
  {
   "cell_type": "code",
   "execution_count": 8,
   "id": "4798b363",
   "metadata": {},
   "outputs": [
    {
     "name": "stdout",
     "output_type": "stream",
     "text": [
      "Transformed data:\n",
      " [ 4.17911296  3.60450198  3.02989101 -3.02989101 -3.60450198 -4.17911296]\n"
     ]
    }
   ],
   "source": [
    "# Chọn thành phần chính (PC1)\n",
    "PC1 = eigenvectors[:,1]\n",
    "\n",
    "# Tính transformed data\n",
    "X_transformed = np.dot(X_centered, PC1)\n",
    "print(\"Transformed data:\\n\", X_transformed)"
   ]
  },
  {
   "cell_type": "code",
   "execution_count": 9,
   "id": "be58357c",
   "metadata": {},
   "outputs": [
    {
     "name": "stdout",
     "output_type": "stream",
     "text": [
      "Transformed data:\n",
      " [[ 4.17911296]\n",
      " [ 3.60450198]\n",
      " [ 3.02989101]\n",
      " [-3.02989101]\n",
      " [-3.60450198]\n",
      " [-4.17911296]]\n"
     ]
    }
   ],
   "source": [
    "# Sử dụng hàm  PCA trong Scikit-learn \n",
    "from sklearn.decomposition import PCA\n",
    "\n",
    "# Chuẩn bị dữ liệu\n",
    "X = [(1,0),(2,0),(3,0),(5,6),(6,6),(7,6)]\n",
    "\n",
    "# Khởi tạo PCA với số chiều giảm xuống là 1\n",
    "pca = PCA(n_components=1)\n",
    "\n",
    "# Thực hiện PCA trên dữ liệu\n",
    "X_transformed = pca.fit_transform(X)\n",
    "\n",
    "# In ra transformed data\n",
    "print(\"Transformed data:\\n\", X_transformed)"
   ]
  },
  {
   "cell_type": "code",
   "execution_count": null,
   "id": "37ebe7c2",
   "metadata": {},
   "outputs": [],
   "source": [
    "''' tính toán bằng hàm và bằng scikit-learn là giống nhau '''"
   ]
  }
 ],
 "metadata": {
  "kernelspec": {
   "display_name": "Python 3 (ipykernel)",
   "language": "python",
   "name": "python3"
  },
  "language_info": {
   "codemirror_mode": {
    "name": "ipython",
    "version": 3
   },
   "file_extension": ".py",
   "mimetype": "text/x-python",
   "name": "python",
   "nbconvert_exporter": "python",
   "pygments_lexer": "ipython3",
   "version": "3.10.9"
  }
 },
 "nbformat": 4,
 "nbformat_minor": 5
}
