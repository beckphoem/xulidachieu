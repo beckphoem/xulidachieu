{
 "cells": [
  {
   "cell_type": "markdown",
   "id": "22016f91",
   "metadata": {},
   "source": [
    "K-means Clustering\n",
    "1. Suppose we have some data points (the black dots) as in Figure 2. We want to apply K-means to this data, using K = 2 and centers initialized to the two circled data points. Figure 2: Cluster the black dots with K-means. The two circles denote the initial guess for the two cluster centres, respectively."
   ]
  },
  {
   "cell_type": "code",
   "execution_count": null,
   "id": "b20bd32f",
   "metadata": {},
   "outputs": [],
   "source": []
  }
 ],
 "metadata": {
  "kernelspec": {
   "display_name": "Python 3 (ipykernel)",
   "language": "python",
   "name": "python3"
  },
  "language_info": {
   "codemirror_mode": {
    "name": "ipython",
    "version": 3
   },
   "file_extension": ".py",
   "mimetype": "text/x-python",
   "name": "python",
   "nbconvert_exporter": "python",
   "pygments_lexer": "ipython3",
   "version": "3.11.2"
  }
 },
 "nbformat": 4,
 "nbformat_minor": 5
}
